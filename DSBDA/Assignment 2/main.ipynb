{
 "cells": [
  {
   "cell_type": "code",
   "execution_count": null,
   "metadata": {},
   "outputs": [],
   "source": [
    "# Data Wrangling II\n",
    "# Create an \"Academic performance\" dataset of students and perform the following operations using Python.\n",
    "# 1. Scan allvariables for missing values and inconsistencies. If there are missing values and/or inconsistencies, use any of the suitable techniques to deal withthem.\n",
    "# 2. Scan all numeric variables for outliers. If there are outliers, use any of the suitable techniques to deal withthem.\n",
    "# 3. Apply data transformations on at least one of the variables. The purpose of this transformation should be one of the following reasons: to change the scale for better understanding of the variable, to convert a non-linear relation into a linear one, or to decrease the skewness and convert the distribution into a normaldistribution.\n",
    "# Reason and document your approach properly."
   ]
  },
  {
   "cell_type": "code",
   "execution_count": 1,
   "metadata": {},
   "outputs": [],
   "source": [
    "# Import libraries\n",
    "import numpy as np\n",
    "import pandas as pd"
   ]
  },
  {
   "cell_type": "code",
   "execution_count": 2,
   "metadata": {},
   "outputs": [],
   "source": [
    "# Load the dataset\n",
    "dataset = pd.read_csv(\"StudentsPerformance_modified.csv\")"
   ]
  },
  {
   "cell_type": "code",
   "execution_count": 4,
   "metadata": {},
   "outputs": [
    {
     "name": "stdout",
     "output_type": "stream",
     "text": [
      "   gender race/ethnicity parental level of education         lunch  \\\n",
      "0  female        group B           bachelor's degree      standard   \n",
      "1  female        group C                some college      standard   \n",
      "2  female        group B             master's degree      standard   \n",
      "3    male        group A          associate's degree  free/reduced   \n",
      "4    male        group C                some college      standard   \n",
      "\n",
      "  test preparation course math score  reading score  writing score  \n",
      "0                    none         72           72.0           74.0  \n",
      "1               completed         69           90.0           88.0  \n",
      "2                    none         90           95.0           93.0  \n",
      "3                    none         47           57.0           44.0  \n",
      "4                    none         76           78.0           75.0  \n",
      "----------------------------------------------------------------------------------------------------\n",
      "<class 'pandas.core.frame.DataFrame'>\n",
      "RangeIndex: 1000 entries, 0 to 999\n",
      "Data columns (total 8 columns):\n",
      " #   Column                       Non-Null Count  Dtype  \n",
      "---  ------                       --------------  -----  \n",
      " 0   gender                       1000 non-null   object \n",
      " 1   race/ethnicity               1000 non-null   object \n",
      " 2   parental level of education  1000 non-null   object \n",
      " 3   lunch                        1000 non-null   object \n",
      " 4   test preparation course      1000 non-null   object \n",
      " 5   math score                   992 non-null    object \n",
      " 6   reading score                994 non-null    float64\n",
      " 7   writing score                991 non-null    float64\n",
      "dtypes: float64(2), object(6)\n",
      "memory usage: 62.6+ KB\n",
      "None\n",
      "----------------------------------------------------------------------------------------------------\n",
      "       reading score  writing score\n",
      "count     994.000000     991.000000\n",
      "mean       68.008048      69.487386\n",
      "std        16.602270      29.563757\n",
      "min         3.000000      10.000000\n",
      "25%        58.000000      57.000000\n",
      "50%        69.500000      69.000000\n",
      "75%        79.000000      79.000000\n",
      "max       100.000000     567.000000\n",
      "----------------------------------------------------------------------------------------------------\n",
      "gender                         0\n",
      "race/ethnicity                 0\n",
      "parental level of education    0\n",
      "lunch                          0\n",
      "test preparation course        0\n",
      "math score                     8\n",
      "reading score                  6\n",
      "writing score                  9\n",
      "dtype: int64\n",
      "----------------------------------------------------------------------------------------------------\n",
      "gender                          object\n",
      "race/ethnicity                  object\n",
      "parental level of education     object\n",
      "lunch                           object\n",
      "test preparation course         object\n",
      "math score                      object\n",
      "reading score                  float64\n",
      "writing score                  float64\n",
      "dtype: object\n",
      "----------------------------------------------------------------------------------------------------\n"
     ]
    }
   ],
   "source": [
    "# Display the first 5 rows of the dataset\n",
    "print(dataset.head())\n",
    "print(\"-\" * 100)\n",
    "\n",
    "# Display the information of the dataset\n",
    "print(dataset.info())\n",
    "print(\"-\" * 100)\n",
    "\n",
    "# Display the summary statistics of the dataset\n",
    "print(dataset.describe())\n",
    "print(\"-\" * 100)\n",
    "\n",
    "# Display the number of missing values in the dataset\n",
    "print(dataset.isnull().sum())\n",
    "print(\"-\" * 100)\n",
    "\n",
    "# Display the data types of the variables in the dataset\n",
    "print(dataset.dtypes)\n",
    "print(\"-\" * 100)"
   ]
  },
  {
   "cell_type": "code",
   "execution_count": 8,
   "metadata": {},
   "outputs": [
    {
     "data": {
      "text/plain": [
       "gender                          object\n",
       "race/ethnicity                  object\n",
       "parental level of education     object\n",
       "lunch                           object\n",
       "test preparation course         object\n",
       "math score                     float64\n",
       "reading score                  float64\n",
       "writing score                  float64\n",
       "dtype: object"
      ]
     },
     "execution_count": 8,
     "metadata": {},
     "output_type": "execute_result"
    }
   ],
   "source": [
    "# As we can see the datatype of math score is object, we need to convert it to float\n",
    "# dataset[\"math score\"] = dataset[\"math score\"].astype(float) # This will throw an error as the data consists of '?' values\n",
    "\n",
    "# Replace '?' with NaN\n",
    "dataset[\"math score\"] = dataset[\"math score\"].replace(\"?\", np.nan)\n",
    "\n",
    "# Convert the datatype of math score to float\n",
    "dataset[\"math score\"] = dataset[\"math score\"].astype(float)\n",
    "\n",
    "dataset.dtypes"
   ]
  },
  {
   "cell_type": "code",
   "execution_count": 14,
   "metadata": {},
   "outputs": [
    {
     "name": "stdout",
     "output_type": "stream",
     "text": [
      "<class 'pandas.core.frame.DataFrame'>\n",
      "RangeIndex: 1000 entries, 0 to 999\n",
      "Data columns (total 8 columns):\n",
      " #   Column                       Non-Null Count  Dtype  \n",
      "---  ------                       --------------  -----  \n",
      " 0   gender                       1000 non-null   object \n",
      " 1   race/ethnicity               1000 non-null   object \n",
      " 2   parental level of education  1000 non-null   object \n",
      " 3   lunch                        1000 non-null   object \n",
      " 4   test preparation course      1000 non-null   object \n",
      " 5   math score                   1000 non-null   float64\n",
      " 6   reading score                1000 non-null   float64\n",
      " 7   writing score                1000 non-null   float64\n",
      "dtypes: float64(3), object(5)\n",
      "memory usage: 62.6+ KB\n",
      "<class 'pandas.core.frame.DataFrame'>\n",
      "RangeIndex: 1000 entries, 0 to 999\n",
      "Data columns (total 8 columns):\n",
      " #   Column                       Non-Null Count  Dtype  \n",
      "---  ------                       --------------  -----  \n",
      " 0   gender                       1000 non-null   object \n",
      " 1   race/ethnicity               1000 non-null   object \n",
      " 2   parental level of education  1000 non-null   object \n",
      " 3   lunch                        1000 non-null   object \n",
      " 4   test preparation course      1000 non-null   object \n",
      " 5   math score                   1000 non-null   float64\n",
      " 6   reading score                1000 non-null   float64\n",
      " 7   writing score                1000 non-null   float64\n",
      "dtypes: float64(3), object(5)\n",
      "memory usage: 62.6+ KB\n"
     ]
    }
   ],
   "source": [
    "# Dealing with missing values:\n",
    "\n",
    "#dropna(): Drops rows or columns containing missing values.\n",
    "#fillna(): Fills missing values with specified methods or values.\n",
    "\n",
    "test = dataset.dropna()\n",
    "test.info()\n",
    "\n",
    "# dataset.dropna(inplace=True) # Drop rows with missing values inplace in the original dataset\n",
    "\n",
    "\n",
    "# Fill missing values with the mean of the column\n",
    "dataset[\"math score\"] = dataset[\"math score\"].fillna(dataset[\"math score\"].mean())\n",
    "\n",
    "# Fill missing values with the median of the column\n",
    "dataset[\"reading score\"] = dataset[\"reading score\"].fillna(dataset[\"reading score\"].median())\n",
    "\n",
    "# Fill missing values with the mode of the column\n",
    "dataset[\"writing score\"] = dataset[\"writing score\"].fillna(dataset[\"writing score\"].mode()[0])\n",
    "\n",
    "dataset.info()"
   ]
  },
  {
   "cell_type": "code",
   "execution_count": 26,
   "metadata": {},
   "outputs": [
    {
     "data": {
      "image/png": "[encoded data removed]",
      "text/plain": [
       "<Figure size 640x480 with 1 Axes>"
      ]
     },
     "metadata": {},
     "output_type": "display_data"
    },
    {
     "data": {
      "image/png": "[encoded data removed]",
      "text/plain": [
       "<Figure size 640x480 with 1 Axes>"
      ]
     },
     "metadata": {},
     "output_type": "display_data"
    },
    {
     "data": {
      "image/png": "[encoded data removed]",
      "text/plain": [
       "<Figure size 640x480 with 1 Axes>"
      ]
     },
     "metadata": {},
     "output_type": "display_data"
    }
   ],
   "source": [
    "# Outlier Detection:\n",
    "# Outliers are extreme values that deviate from other observations in the dataset. They may indicate a variability in a measurement, experimental errors, or a novelty. Outliers can have a disproportionate effect on statistical analysis, which can lead to misleading interpretations. Therefore, it is important to detect and deal with outliers in the dataset.\n",
    "\n",
    "# For visualizing outliers, we can use library like seaborn to create boxplots. \n",
    "# Seaborn is built on top of Matplotlib and provides a high-level interface for drawing attractive and informative statistical graphics. \n",
    "\n",
    "# Boxplot\n",
    "import seaborn as sns\n",
    "import matplotlib.pyplot as plt\n",
    "\n",
    "sns.boxplot(x=dataset[\"math score\"])\n",
    "plt.show()\n",
    "\n",
    "sns.boxplot(x=dataset[\"reading score\"])\n",
    "plt.show()\n",
    "\n",
    "sns.boxplot(x=dataset[\"writing score\"])\n",
    "plt.show()"
   ]
  },
  {
   "cell_type": "code",
   "execution_count": 31,
   "metadata": {},
   "outputs": [
    {
     "name": "stdout",
     "output_type": "stream",
     "text": [
      "Max threshold for math score: 86.0\n",
      "Min threshold for math score: 47.0\n",
      "<class 'pandas.core.frame.DataFrame'>\n",
      "Index: 799 entries, 0 to 999\n",
      "Data columns (total 8 columns):\n",
      " #   Column                       Non-Null Count  Dtype  \n",
      "---  ------                       --------------  -----  \n",
      " 0   gender                       799 non-null    object \n",
      " 1   race/ethnicity               799 non-null    object \n",
      " 2   parental level of education  799 non-null    object \n",
      " 3   lunch                        799 non-null    object \n",
      " 4   test preparation course      799 non-null    object \n",
      " 5   math score                   799 non-null    float64\n",
      " 6   reading score                799 non-null    float64\n",
      " 7   writing score                799 non-null    float64\n",
      "dtypes: float64(3), object(5)\n",
      "memory usage: 56.2+ KB\n"
     ]
    },
    {
     "data": {
      "image/png": "[encoded data removed]",
      "text/plain": [
       "<Figure size 640x480 with 1 Axes>"
      ]
     },
     "metadata": {},
     "output_type": "display_data"
    }
   ],
   "source": [
    "# Method 1: Percentile-based outlier detection\n",
    "\n",
    "max_threshold = dataset[\"math score\"].quantile(0.95)\n",
    "print(f\"Max threshold for math score: {max_threshold}\")\n",
    "\n",
    "min_threshold = dataset[\"math score\"].quantile(0.05)\n",
    "print(f\"Min threshold for math score: {min_threshold}\")\n",
    "\n",
    "# print(dataset[dataset[\"math score\"] > max_threshold]) # Display the rows where math score is greater than the max threshold\n",
    "# print(dataset[dataset[\"math score\"] < min_threshold]) # Display the rows where math score is less than the min threshold\n",
    "\n",
    "# Remove outliers\n",
    "dataset = dataset[(dataset[\"math score\"] < max_threshold) & (dataset[\"math score\"] > min_threshold)]\n",
    "\n",
    "dataset.info()\n",
    "\n",
    "sns.boxplot(x=dataset[\"math score\"])\n",
    "plt.show()\n"
   ]
  }
 ],
 "metadata": {
  "kernelspec": {
   "display_name": "base",
   "language": "python",
   "name": "python3"
  },
  "language_info": {
   "codemirror_mode": {
    "name": "ipython",
    "version": 3
   },
   "file_extension": ".py",
   "mimetype": "text/x-python",
   "name": "python",
   "nbconvert_exporter": "python",
   "pygments_lexer": "ipython3",
   "version": "3.11.7"
  }
 },
 "nbformat": 4,
 "nbformat_minor": 2
}
